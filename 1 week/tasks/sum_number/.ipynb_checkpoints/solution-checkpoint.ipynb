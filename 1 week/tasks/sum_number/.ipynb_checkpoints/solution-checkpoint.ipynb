{
 "cells": [
  {
   "cell_type": "code",
   "execution_count": 1,
   "id": "89112d55",
   "metadata": {},
   "outputs": [],
   "source": [
    "import sys"
   ]
  },
  {
   "cell_type": "code",
   "execution_count": 4,
   "id": "f8a3cb00",
   "metadata": {},
   "outputs": [],
   "source": [
    "# digit_string = sys.argv[1]\n",
    "digit_string = '12345'"
   ]
  },
  {
   "cell_type": "code",
   "execution_count": 5,
   "id": "f82d6ae9",
   "metadata": {},
   "outputs": [],
   "source": [
    "sum = 0\n",
    "for letter in digit_string:\n",
    "    sum += int(letter)"
   ]
  },
  {
   "cell_type": "code",
   "execution_count": 6,
   "id": "dc77c10c",
   "metadata": {},
   "outputs": [
    {
     "data": {
      "text/plain": [
       "15"
      ]
     },
     "execution_count": 6,
     "metadata": {},
     "output_type": "execute_result"
    }
   ],
   "source": [
    "sum"
   ]
  },
  {
   "cell_type": "code",
   "execution_count": 11,
   "id": "cd6e68ef",
   "metadata": {},
   "outputs": [],
   "source": [
    "sum = 0\n",
    "sum = list(map(lambda x: int(x) + sum, digit_string))"
   ]
  },
  {
   "cell_type": "code",
   "execution_count": null,
   "id": "a905c69c",
   "metadata": {},
   "outputs": [],
   "source": []
  }
 ],
 "metadata": {
  "kernelspec": {
   "display_name": "Python 3",
   "language": "python",
   "name": "python3"
  },
  "language_info": {
   "codemirror_mode": {
    "name": "ipython",
    "version": 3
   },
   "file_extension": ".py",
   "mimetype": "text/x-python",
   "name": "python",
   "nbconvert_exporter": "python",
   "pygments_lexer": "ipython3",
   "version": "3.6.9"
  }
 },
 "nbformat": 4,
 "nbformat_minor": 5
}
